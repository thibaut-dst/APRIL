{
 "cells": [
  {
   "cell_type": "markdown",
   "metadata": {},
   "source": [
    "### It's probably a good idea that we all use the same version of python: 3.12"
   ]
  },
  {
   "cell_type": "code",
   "execution_count": null,
   "metadata": {},
   "outputs": [
    {
     "name": "stdout",
     "output_type": "stream",
     "text": [
      "Hello world!\n"
     ]
    }
   ],
   "source": [
    "print(\"Hello!\")"
   ]
  },
  {
   "cell_type": "markdown",
   "metadata": {},
   "source": [
    "# html to txt"
   ]
  },
  {
   "cell_type": "code",
   "execution_count": null,
   "metadata": {},
   "outputs": [],
   "source": [
    "from bs4 import BeautifulSoup\n",
    "import os  # Pour manipuler les noms de fichiers\n",
    "\n",
    "# Fonction pour convertir un fichier HTML en texte brut et garder le même nom pour le fichier texte\n",
    "def html_to_text(html_file):\n",
    "    # Lire le fichier HTML\n",
    "    with open(html_file, 'r', encoding='utf-8') as file:\n",
    "        html_content = file.read()\n",
    "    \n",
    "    # Utiliser BeautifulSoup pour parser le HTML\n",
    "    soup = BeautifulSoup(html_content, 'html.parser')\n",
    "    \n",
    "    # Extraire le texte brut\n",
    "    text = soup.get_text()\n",
    "    \n",
    "    # Obtenir le nom du fichier sans l'extension .html\n",
    "    base_name = os.path.splitext(html_file)[0]  # Supprime l'extension .html\n",
    "    \n",
    "    # Créer le fichier .txt avec le même nom\n",
    "    txt_file = f\"{base_name}.txt\"\n",
    "    \n",
    "    # Écrire le texte brut dans un fichier TXT\n",
    "    with open(txt_file, 'w', encoding='utf-8') as file:\n",
    "        file.write(text)\n",
    "\n",
    "# Exemple d'utilisation\n",
    "html_to_text(\"Centre de ressources pour l’adaptation au changement climatique, agissez et prenez l'initiative pour.html\")\n"
   ]
  }
 ],
 "metadata": {
  "kernelspec": {
   "display_name": "Python 3",
   "language": "python",
   "name": "python3"
  },
  "language_info": {
   "codemirror_mode": {
    "name": "ipython",
    "version": 3
   },
   "file_extension": ".py",
   "mimetype": "text/x-python",
   "name": "python",
   "nbconvert_exporter": "python",
   "pygments_lexer": "ipython3",
   "version": "3.12.1"
  }
 },
 "nbformat": 4,
 "nbformat_minor": 2
}
